{
  "nbformat": 4,
  "nbformat_minor": 0,
  "metadata": {
    "colab": {
      "name": "Exoplanet Archive Atmospheric Retrieval with PLATON",
      "provenance": []
    },
    "kernelspec": {
      "name": "python3",
      "display_name": "Python 3"
    }
  },
  "cells": [
    {
      "cell_type": "markdown",
      "metadata": {
        "id": "v_EyL-6E0h3H"
      },
      "source": [
        "# NASA Exoplanet Archive PLATON Atmospheric Retrieval\n",
        "This notebook utilizes the PLanetary Atmospheric Transmission for Observer Noobs (PLATON) tool ([Zhang, M. et al., 2019](https://ui.adsabs.harvard.edu/abs/2019PASP..131c4501Z/abstract), [Zhang, M. et al., 2020](https://ui.adsabs.harvard.edu/abs/2020ApJ...899...27Z/abstract), [Source on Github](https://github.com/ideasrule/platon), [Documentation](https://platon.readthedocs.io)) for use with [Transmission Spectroscopy data](https://exoplanetarchive.ipac.caltech.edu/cgi-bin/TblView/nph-tblView?app=ExoTbls&config=transitspec) from the Exoplanet Archive.\n",
        "\n",
        "This notebook is meant to require minimal user input, unless you want to provide your own data. Each step will either begin with *(Play)* or **(Input)**. No editing is necessary for the *(Play)* steps, just hover over the cell and press the \"Play\" button on the left. The **(Input)** steps will tell you what can be changed.\n",
        "\n",
        "**NOTE:** This has not been tested on all planets with transmission spectroscopy data on the Exoplanet Archive, so your results may vary!\n",
        "\n",
        "**Estimated Runtime**: 1 hour\n",
        "\n",
        "*Author*: [Kevin Hardegree-Ullman](http://kevinkhu.com), modified by [Sam Grunblatt](skgrunblatt.github.io)\n",
        "\n",
        "*Last Modified*: November 5, 2024"
      ]
    },
    {
      "cell_type": "markdown",
      "metadata": {
        "id": "5FD2ocuvOAjP"
      },
      "source": [
        "1.   *(Play)* Install some dependencies and the PLATON package.\n",
        "\n"
      ]
    },
    {
      "cell_type": "code",
      "metadata": {
        "id": "MKY8YAISeEja"
      },
      "source": [
        "!apt-get install libopenblas-dev\n",
        "!pip install git+https://github.com/ideasrule/platon.git"
      ],
      "execution_count": null,
      "outputs": []
    },
    {
      "cell_type": "markdown",
      "metadata": {
        "id": "bGN3kbpPOOFJ"
      },
      "source": [
        "2.   *(Play)* Import some packages!\n",
        "\n"
      ]
    },
    {
      "cell_type": "code",
      "metadata": {
        "id": "gDKKYbaCvbB6"
      },
      "source": [
        "import numpy as np\n",
        "import matplotlib.pyplot as plt\n",
        "import pickle\n",
        "import pandas as pd\n",
        "import io\n",
        "import requests\n",
        "from platon.plotter import Plotter\n",
        "from platon.fit_info import FitInfo\n",
        "from platon.combined_retriever import CombinedRetriever\n",
        "from platon.constants import R_sun, R_jup, M_jup, R_earth, M_earth\n",
        "print('Packages successfully imported!')"
      ],
      "execution_count": null,
      "outputs": []
    },
    {
      "cell_type": "markdown",
      "metadata": {
        "id": "PHkSNZjiORjZ"
      },
      "source": [
        "3.   *(Play)* Read in the [transmission spectroscopy table](https://exoplanetarchive.ipac.caltech.edu/cgi-bin/TblView/nph-tblView?app=ExoTbls&config=transitspec) from the Exoplanet Archive and list the available planets.\n",
        "\n"
      ]
    },
    {
      "cell_type": "code",
      "metadata": {
        "id": "CpAM-PewveuC"
      },
      "source": [
        "url=\"https://raw.githubusercontent.com/skgrunblatt/exoplanet_atmospheres/refs/heads/main/transitspec_2024.11.05_13.31.29.csv?dl=1\"\n",
        "tstable=pd.read_csv(url, comment='#', header=0)\n",
        "tstable.dropna(subset=['plnratror','bandwidth','centralwavelng'], inplace=True, axis=0)\n",
        "tstable.sort_values('plntname',inplace=True)\n",
        "tstable.reset_index(drop=True,inplace=True)\n",
        "\n",
        "print('Here are all the available planets: ',tstable.plntname.unique())"
      ],
      "execution_count": null,
      "outputs": []
    },
    {
      "cell_type": "markdown",
      "metadata": {
        "id": "ClexCmL59nxJ"
      },
      "source": [
        "4. **(Input)** Select your favorite planet from the list above."
      ]
    },
    {
      "cell_type": "code",
      "metadata": {
        "id": "fxb36kcN9sfS"
      },
      "source": [
        "planet = 'WASP-121 b' # Edit the name within the quotes. Make sure the exact string matches a planet in the list above.\n",
        "\n",
        "if tstable['plntname'].str.contains(planet).any():\n",
        "  print(\"You have selected planet \"+planet+'.')\n",
        "else:\n",
        "  print(\"Please check your planet name, it doesn't appear to be in the list above.\")"
      ],
      "execution_count": null,
      "outputs": []
    },
    {
      "cell_type": "markdown",
      "metadata": {
        "id": "SYWO85CcObdn"
      },
      "source": [
        "5. *(Play)* Plot the data! Check that things look okay."
      ]
    },
    {
      "cell_type": "code",
      "metadata": {
        "id": "kZJbt_VoxeOY"
      },
      "source": [
        "# Extract data from the table above for only the selected planet.\n",
        "df = tstable.loc[(tstable['plntname'] == planet) & (tstable['centralwavelng'] > 0.3)] #This truncates the data to >0.3 microns, the limit of the models used below.\n",
        "df = df.dropna(subset=['bandwidth', 'plnratror', 'plnratrorerr1', 'plnratrorerr2'])\n",
        "df = df.sort_values(by='centralwavelng')\n",
        "df = df.reset_index(drop=True)\n",
        "\n",
        "# Make the plot\n",
        "plt.figure(figsize=(10,8))\n",
        "plt.title(planet+' Transit Data', fontsize=26)\n",
        "plt.errorbar(x=df.centralwavelng,y=df.plnratror,xerr=df.bandwidth,yerr=[df.plnratrorerr1,-df.plnratrorerr2],fmt='o',color='red')\n",
        "plt.xticks(fontsize=18)\n",
        "plt.yticks(fontsize=18)\n",
        "plt.xlabel('Wavelength ($\\mathrm{\\mu}$m)',fontsize=24)\n",
        "plt.ylabel('$R_p/R_{\\star}$',fontsize=24)\n",
        "\n",
        "# plt.xscale('log') #uncomment if necessary"
      ],
      "execution_count": null,
      "outputs": []
    },
    {
      "cell_type": "markdown",
      "metadata": {
        "id": "OjSzlmVFAwgH"
      },
      "source": [
        "6. *(Play)* Download system parameter data from the Exoplanet Archive."
      ]
    },
    {
      "cell_type": "code",
      "metadata": {
        "id": "I5LmqMKeEj_I"
      },
      "source": [
        "p2ascii = planet.replace(\" \",\"%20\")\n",
        "\n",
        "url = \"https://exoplanetarchive.ipac.caltech.edu/TAP/sync?query=select+*+from+ps+where+pl_name+=+'\"+p2ascii+\"'+and+default_flag+=+1+&format=csv\"\n",
        "\n",
        "plsyspars=pd.read_csv(url, comment='#', header=0)\n",
        "plsyspars"
      ],
      "execution_count": null,
      "outputs": []
    },
    {
      "cell_type": "markdown",
      "metadata": {
        "id": "Nq7c7W5aPl0w"
      },
      "source": [
        "7. *(Play)* Take the basic planet and stellar parameters from the table above. Feel free to **(Input)** your own values if you have them.\n"
      ]
    },
    {
      "cell_type": "code",
      "metadata": {
        "id": "ULJ5hVebP55T"
      },
      "source": [
        "#Reference quantities\n",
        "R_earth = 6371009 #meters\n",
        "R_jup = 69950000 #meters\n",
        "R_sun = 695700000 #meters\n",
        "M_earth = 5.97e24 #kilograms\n",
        "M_jup = 1.898e27 #kilograms\n",
        "M_sun = 1.988435e30 #kilograms\n",
        "G = 6.6743015e-11 #m^3 kg^-1 s^-2\n",
        "\n",
        "#Planet Parameters\n",
        "R_guess = plsyspars['pl_rade'][0] * R_earth #Planet radius guess in Earth radii, if that wasn't obvious already\n",
        "R_err = np.mean([np.abs(plsyspars['pl_radeerr1'][0]),np.abs(plsyspars['pl_radeerr2'][0])]) * R_earth #Planet radius error in Earth radii\n",
        "print(planet+' Planet Parameters:')\n",
        "print('R_planet = '+str(round(R_guess/R_earth,2))+' \\u00B1 '+str(round(R_err/R_earth,2))+' R_Earth = '+str(round(R_guess/R_jup,2))+' \\u00B1 '+str(round(R_err/R_jup,2))+' R_Jupiter')\n",
        "\n",
        "M_pl = plsyspars['pl_bmasse'][0] * M_earth #Planet mass (or msini) in Earth masses\n",
        "M_pl_err = np.mean([np.abs(plsyspars['pl_bmasseerr1'][0]),np.abs(plsyspars['pl_bmasseerr2'][0])]) * M_earth #Planet mass error in Earth masses\n",
        "print('M_planet = '+str(round(M_pl/M_earth,2))+' \\u00B1 '+str(round(M_pl_err/M_earth,2))+' M_Earth = '+str(round(M_pl/M_jup,2))+' \\u00B1 '+str(round(M_pl_err/M_jup,2))+' M_Jupiter')\n",
        "\n",
        "grav = G*M_pl/(R_guess**2)\n",
        "print('Surface Gravity = '+str(round(grav,2))+' m/s^2')\n",
        "\n",
        "T_guess = 2400#plsyspars['pl_eqt'][0] #Planet equilibrium temperature guess in Kelvin\n",
        "print('T_eq = '+str(int(T_guess))+' K')\n",
        "if T_guess < 300 or T_guess > 2600:\n",
        "  print('*****STOP!***** T_eq is beyond the temperature range of the current model set. The following code will not work. Sorry :(')\n",
        "\n",
        "#Stellar Host Parameters\n",
        "Rs = plsyspars['st_rad'][0] * R_sun #Star radius in Sun radii\n",
        "Rs_err = np.mean([np.abs(plsyspars['st_raderr1'][0]),np.abs(plsyspars['st_raderr2'][0])]) * R_sun #Star radius measurement error in Sun radii\n",
        "print('\\nStellar Host Parameters')\n",
        "print('R_star = '+str(round(Rs/R_sun,2))+' \\u00B1 '+str(round(Rs_err/R_sun,2))+' R_Sun')\n",
        "\n",
        "T_star = 6400#plsyspars['st_teff'][0] #Star effective temperature in Kelvin\n",
        "print('T_eff = '+str(int(T_star))+' K')"
      ],
      "execution_count": null,
      "outputs": []
    },
    {
      "cell_type": "markdown",
      "metadata": {
        "id": "PHGJt7Z-qbFQ"
      },
      "source": [
        "8. *(Play)* If you have values for planetary atmospheric metallicity (log Z) or the planetary C/O ratio, **(Input)** them below, otherwise leave them at the default values."
      ]
    },
    {
      "cell_type": "code",
      "metadata": {
        "id": "JB9D_hRYqb_2"
      },
      "source": [
        "logZ_guess = 1.09 #Planetary atmospheric metallicity relative to the Sun. If you don't know this, set to 0.\n",
        "CO_guess = 0.49 #Planetary C/O ratio. If you don't know this, set to 0.54 which is the solar value.\n",
        "print('log(Z) = '+str(logZ_guess))\n",
        "print('C/O = '+str(CO_guess))"
      ],
      "execution_count": null,
      "outputs": []
    },
    {
      "cell_type": "markdown",
      "metadata": {
        "id": "oeYZ1QK3c0JX"
      },
      "source": [
        "9. *(Play)* *Run the PLATON retrieval!* This will run 100 emcee steps and take ~**35 to 75 minutes** (typically depending on the amount of input data, on first run a 10GB file is also downloaded), so feel free to work on something else for about an hour... or if you're at home do yourself a favor and go bake some cookies! By the time the cookies are done, your code will have finished (probably), your place will smell like cookies, and, best of all, you'll have some cookies! After all 100 steps have run, the best fit results will print below and also save to a file *BestFit.txt* in the Files panel to the left."
      ]
    },
    {
      "cell_type": "code",
      "metadata": {
        "id": "VJHk69PBeoko"
      },
      "source": [
        "#Convert the data input to arrays\n",
        "def winputs():\n",
        "  wave_bins = []\n",
        "  depths = []\n",
        "  errors = []\n",
        "  for i in range(len(df)):\n",
        "    wave_bins.append([df['centralwavelng'][i]-df['bandwidth'][i]/2,df['centralwavelng'][i]+df['bandwidth'][i]/2])\n",
        "    depths.append((df['plnratror'][i])**2)\n",
        "    errors.append((df['plnratrorerr1'][i])**2)\n",
        "  return 1e-6*np.array(wave_bins), np.array(depths), np.array(errors)\n",
        "\n",
        "wbins, wdepths, werrors = winputs()\n",
        "bins=wbins\n",
        "depths=wdepths\n",
        "errors=werrors\n",
        "\n",
        "#create a Retriever object\n",
        "retriever = CombinedRetriever()\n",
        "\n",
        "#create a FitInfo object and set best guess parameters\n",
        "fit_info = retriever.get_default_fit_info(\n",
        "    Rs=Rs, Mp=M_pl, Rp=R_guess, T=T_guess,\n",
        "    logZ=logZ_guess, CO_ratio=CO_guess, log_cloudtop_P=3,\n",
        "    log_scatt_factor=0, scatt_slope=4, error_multiple=1, T_star=T_star)\n",
        "\n",
        "#Add fitting parameters - this specifies which parameters you want to fit\n",
        "#e.g. since we have not included cloudtop_P, it will be fixed at the value specified in the constructor\n",
        "\n",
        "fit_info.add_gaussian_fit_param('Rs', Rs_err)\n",
        "fit_info.add_gaussian_fit_param('Mp', M_pl_err)\n",
        "\n",
        "# Here, emcee is initialized with walkers where R is between 0.9*R_guess and\n",
        "# 1.1*R_guess.  However, the hard limit on R is from 0 to infinity.\n",
        "fit_info.add_uniform_fit_param('Rp', 0, np.inf, 0.9*R_guess, 1.1*R_guess)\n",
        "\n",
        "fit_info.add_uniform_fit_param('T', 1000, 3000, 0.5*T_guess, 1.5*T_guess)\n",
        "fit_info.add_uniform_fit_param(\"log_scatt_factor\", 0, 5, 0, 1)\n",
        "fit_info.add_uniform_fit_param(\"logZ\", -1, 3)\n",
        "fit_info.add_uniform_fit_param(\"log_cloudtop_P\", -0.99, 5)\n",
        "fit_info.add_uniform_fit_param(\"error_multiple\", 0, np.inf, 0.5, 5)\n",
        "\n",
        "#Use Nested Sampling to do the fitting\n",
        "result = retriever.run_emcee(bins, depths, errors,\n",
        "                             None, None, None,\n",
        "                             fit_info, nwalkers=50, nsteps=100,\n",
        "                             rad_method=\"xsec\" #\"ktables\" for corr-k\n",
        ")\n",
        "\n",
        "with open(\"example_retrieval_result.pkl\", \"wb\") as f:\n",
        "    pickle.dump(result, f)\n",
        "\n",
        "#Useful members: result.chain, result.lnprobability, result.flatchain, result.flatlnprobability"
      ],
      "execution_count": null,
      "outputs": []
    },
    {
      "cell_type": "markdown",
      "metadata": {
        "id": "UL1z8fS2i_G1"
      },
      "source": [
        "10. *(Play)* Plot your data and best fit retrieved spectrum. This will also save a file called *planet name*_best_fit.png in the Files panel to the left.\n"
      ]
    },
    {
      "cell_type": "code",
      "metadata": {
        "id": "jOD-Mo8hjCBo"
      },
      "source": [
        "plotter = Plotter()\n",
        "plt.figure(figsize=(10,8))\n",
        "plotter.plot_retrieval_transit_spectrum(result, prefix=\"best_fit\")\n",
        "plt.xticks(fontsize=18)\n",
        "plt.yticks(fontsize=18)\n",
        "plt.xlabel('Wavelength (microns)',fontsize=24)\n",
        "plt.ylabel('Transit depth',fontsize=24)\n",
        "plt.xscale('linear') #uncomment as needed\n",
        "plt.legend(fontsize='18')"
      ],
      "execution_count": null,
      "outputs": []
    },
    {
      "cell_type": "markdown",
      "metadata": {
        "id": "igvbPi53ycD8"
      },
      "source": [
        "11. *(Play)* Plot the 2D posteriors from the atmospheric retrieval. This will also save a file called *planet name*_emcee_corner.png in the sample_data folder to the left. If your posteriors do not look great, you might want to tune the parameters in Steps 7 and 8."
      ]
    },
    {
      "cell_type": "code",
      "metadata": {
        "id": "oZH5IdlSjEgJ"
      },
      "source": [
        "plotter.plot_retrieval_corner(result)"
      ],
      "execution_count": null,
      "outputs": []
    },
    {
      "cell_type": "markdown",
      "metadata": {
        "id": "qA6glFOCCdnA"
      },
      "source": [
        "You have reached the end of this tutorial, congratulations!"
      ]
    },
    {
      "cell_type": "markdown",
      "metadata": {
        "id": "xHvj4eSylSsY"
      },
      "source": [
        "#Development Roadmap\n",
        "\n",
        "*   Edit for easy user upload of their own data.\n",
        "*   Edit to allow/convert different transit depth parameters (e.g., Rp/Rs, (Rp/Rs)^2, %, mmag).\n",
        "*   Acquire transit data from community repositories (e.g., [Exoplanet Watch](https://exoplanets.nasa.gov/exoplanet-watch/about-exoplanet-watch/overview/)).\n",
        "*   Color transit data by input source to allow checking for inconsistent data or removing sources.\n",
        "*   Allow for combining/averaging measurements at the same wavelength/bandpass."
      ]
    }
  ]
}