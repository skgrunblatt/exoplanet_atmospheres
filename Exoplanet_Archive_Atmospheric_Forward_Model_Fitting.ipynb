{
  "nbformat": 4,
  "nbformat_minor": 0,
  "metadata": {
    "colab": {
      "name": "Exoplanet Archive Atmospheric Forward Model Fitting.ipynb",
      "provenance": []
    },
    "kernelspec": {
      "name": "python3",
      "display_name": "Python 3"
    },
    "language_info": {
      "name": "python"
    }
  },
  "cells": [
    {
      "cell_type": "markdown",
      "metadata": {
        "id": "y_ZbklExEdTq"
      },
      "source": [
        "# NASA Exoplanet Archive Atmospheric Forward Model Fitting\n",
        "This notebook is a tutorial for fitting ATMO ([Goyal, J. M. et al., 2019](https://ui.adsabs.harvard.edu/abs/2019MNRAS.482.4503G/abstract)) forward models to [Transmission Spectroscopy data](https://exoplanetarchive.ipac.caltech.edu/cgi-bin/TblView/nph-tblView?app=ExoTbls&config=transitspec) from the Exoplanet Archive.\n",
        "\n",
        "This notebook is meant to require minimal user input, unless you want to provide your own data. Each step will either begin with *(Play)* or **(Input)**. No editing is necessary for the *(Play)* steps, just hover over the cell and press the \"Play\" button on the left. The **(Input)** steps will tell you what can be changed.\n",
        "\n",
        "**NOTE:** This has not been tested on all planets with transmission spectroscopy data on the Exoplanet Archive, so your results may vary!\n",
        "\n",
        "**Estimated Runtime**: 2 minutes\n",
        "\n",
        "*Authors*: [Kevin Hardegree-Ullman](http://kevinkhu.com), [Sam Grunblatt](skgrunblatt.github.io)\n",
        "\n",
        "*Last Modified*: November 5, 2024"
      ]
    },
    {
      "cell_type": "markdown",
      "metadata": {
        "id": "ZW_th80dFzcA"
      },
      "source": [
        "1.   *(Play)* Install the [SpectRes](https://spectres.readthedocs.io/en/latest/) spectral resampling package."
      ]
    },
    {
      "cell_type": "code",
      "metadata": {
        "id": "3OskkleBf8jK"
      },
      "source": [
        "!pip install spectres"
      ],
      "execution_count": null,
      "outputs": []
    },
    {
      "cell_type": "markdown",
      "metadata": {
        "id": "Y2s9LlE_GDmz"
      },
      "source": [
        "2.   *(Play)* Import some packages!"
      ]
    },
    {
      "cell_type": "code",
      "metadata": {
        "id": "nELbHoczgJ8b"
      },
      "source": [
        "import numpy as np\n",
        "import matplotlib.pyplot as plt\n",
        "import pandas as pd\n",
        "import spectres as spectres\n",
        "\n",
        "print('Packages successfully imported!')"
      ],
      "execution_count": null,
      "outputs": []
    },
    {
      "cell_type": "markdown",
      "metadata": {
        "id": "Ryj-MDKKGMcP"
      },
      "source": [
        "3.   *(Play)* Read in the [transmission spectroscopy table](https://exoplanetarchive.ipac.caltech.edu/cgi-bin/TblView/nph-tblView?app=ExoTbls&config=transitspec) from the Exoplanet Archive and list the available planets."
      ]
    },
    {
      "cell_type": "code",
      "metadata": {
        "id": "TGFWIvg0gRYH"
      },
      "source": [
        "url=\"https://raw.githubusercontent.com/skgrunblatt/exoplanet_atmospheres/refs/heads/main/transitspec_2024.11.05_13.31.29.csv?dl=1\"\n",
        "tstable=pd.read_csv(url, comment='#', header=0)\n",
        "tstable.dropna(subset=['plnratror','bandwidth','centralwavelng'], inplace=True, axis=0)\n",
        "tstable.sort_values('plntname',inplace=True)\n",
        "tstable.reset_index(drop=True,inplace=True)\n",
        "\n",
        "print('Here are all the available planets: ',tstable.plntname.unique())"
      ],
      "execution_count": null,
      "outputs": []
    },
    {
      "cell_type": "markdown",
      "metadata": {
        "id": "wLiK_LzBHKfU"
      },
      "source": [
        "4. **(Input)** Select your favorite planet from the list above."
      ]
    },
    {
      "cell_type": "code",
      "metadata": {
        "id": "vRqk3w72gV5e"
      },
      "source": [
        "planet = 'WASP-121 b' # Edit the name within the quotes. Make sure the exact string matches a planet in the list above.\n",
        "\n",
        "if tstable['plntname'].str.contains(planet).any():\n",
        "  print(\"You have selected planet \"+planet+\".\")\n",
        "else:\n",
        "  print(\"Please check your planet name, it doesn't appear to be in the list above.\")"
      ],
      "execution_count": null,
      "outputs": []
    },
    {
      "cell_type": "markdown",
      "metadata": {
        "id": "Ps8GiYV5HOLA"
      },
      "source": [
        "5. *(Play)* Plot the data! Check that things look okay."
      ]
    },
    {
      "cell_type": "code",
      "metadata": {
        "id": "35j09jm1gaOU"
      },
      "source": [
        "# Extract data from the table above for only the selected planet.\n",
        "df = tstable.loc[(tstable['plntname'] == planet) & (tstable['centralwavelng'] > 0.3)] #This truncates the data to >0.3 microns, the limit of the models used below.\n",
        "df = df.dropna(subset=['bandwidth', 'plnratror', 'plnratrorerr1', 'plnratrorerr2'])\n",
        "df = df.sort_values(by='centralwavelng')\n",
        "df = df.reset_index(drop=True)\n",
        "\n",
        "# Make the plot\n",
        "plt.figure(figsize=(10,8))\n",
        "plt.title(planet+' Transit Data', fontsize=26)\n",
        "plt.errorbar(x=df.centralwavelng,y=df.plnratror,xerr=df.bandwidth,yerr=[df.plnratrorerr1,-df.plnratrorerr2],fmt='o',color='red')\n",
        "plt.xticks(fontsize=18)\n",
        "plt.yticks(fontsize=18)\n",
        "plt.xlabel('Wavelength ($\\mathrm{\\mu}$m)',fontsize=24)\n",
        "plt.ylabel('$R_p/R_{\\star}$',fontsize=24)\n",
        "\n",
        "# plt.xscale('log') #uncomment if necessary"
      ],
      "execution_count": null,
      "outputs": []
    },
    {
      "cell_type": "markdown",
      "metadata": {
        "id": "Ziobnh3PHZuk"
      },
      "source": [
        "6. *(Play)* Download system parameter data from the Exoplanet Archive."
      ]
    },
    {
      "cell_type": "code",
      "metadata": {
        "id": "kTzz4eJ4goKa"
      },
      "source": [
        "p2ascii = planet.replace(\" \",\"%20\")\n",
        "\n",
        "url = \"https://exoplanetarchive.ipac.caltech.edu/TAP/sync?query=select+*+from+ps+where+pl_name+=+'\"+p2ascii+\"'+and+default_flag+=+1+&format=csv\"\n",
        "\n",
        "plsyspars=pd.read_csv(url, comment='#', header=0)\n",
        "plsyspars"
      ],
      "execution_count": null,
      "outputs": []
    },
    {
      "cell_type": "markdown",
      "metadata": {
        "id": "HUYv0jabHeJw"
      },
      "source": [
        "7. *(Play)* Take the basic planet and stellar parameters from the table above. Compute planet surface gravity for use below. Feel free to **(Input)** your own values if you have them. (Note: you might have to input your own values for some parameters for certain planets; you can look them up in the [NASA Exoplanet Archive](https://exoplanetarchive.ipac.caltech.edu/).)"
      ]
    },
    {
      "cell_type": "code",
      "metadata": {
        "id": "1XrTPZ05gv3K"
      },
      "source": [
        "#Reference quantities\n",
        "R_earth = 6371009 #meters\n",
        "R_jup = 69950000 #meters\n",
        "R_sun = 695700000 #meters\n",
        "M_earth = 5.97e24 #kilograms\n",
        "M_jup = 1.898e27 #kilograms\n",
        "M_sun = 1.988435e30 #kilograms\n",
        "G = 6.6743015e-11 #m^3 kg^-1 s^-2\n",
        "\n",
        "#Planet Parameters\n",
        "R_guess = plsyspars['pl_rade'][0] * R_earth #Planet radius guess in Earth radii, if that wasn't obvious already\n",
        "R_err = np.mean([np.abs(plsyspars['pl_radeerr1'][0]),np.abs(plsyspars['pl_radeerr2'][0])]) * R_earth #Planet radius error in Earth radii\n",
        "print(planet+' Planet Parameters:')\n",
        "print('R_planet = '+str(round(R_guess/R_earth,2))+' \\u00B1 '+str(round(R_err/R_earth,2))+' R_Earth = '+str(round(R_guess/R_jup,2))+' \\u00B1 '+str(round(R_err/R_jup,2))+' R_Jupiter')\n",
        "\n",
        "M_pl = plsyspars['pl_bmasse'][0] * M_earth #Planet mass (or msini) in Earth masses\n",
        "M_pl_err = np.mean([np.abs(plsyspars['pl_bmasseerr1'][0]),np.abs(plsyspars['pl_bmasseerr2'][0])]) * M_earth #Planet mass error in Earth masses\n",
        "print('M_planet = '+str(round(M_pl/M_earth,2))+' \\u00B1 '+str(round(M_pl_err/M_earth,2))+' M_Earth = '+str(round(M_pl/M_jup,2))+' \\u00B1 '+str(round(M_pl_err/M_jup,2))+' M_Jupiter')\n",
        "\n",
        "grav = G*M_pl/(R_guess**2)\n",
        "print('Surface Gravity = '+str(round(grav,2))+' m/s^2')\n",
        "\n",
        "T_guess = 2400#plsyspars['pl_eqt'][0] #Planet equilibrium temperature guess in Kelvin\n",
        "print('T_eq = '+str(int(T_guess))+' K')\n",
        "if T_guess < 300 or T_guess > 2600:\n",
        "  print('*****STOP!***** T_eq is beyond the temperature range of the current model set. The following code will not work. Sorry :(')\n",
        "\n",
        "#Stellar Host Parameters\n",
        "Rs = plsyspars['st_rad'][0] * R_sun #Star radius in Sun radii\n",
        "Rs_err = np.mean([np.abs(plsyspars['st_raderr1'][0]),np.abs(plsyspars['st_raderr2'][0])]) * R_sun #Star radius measurement error in Sun radii\n",
        "print('\\nStellar Host Parameters')\n",
        "print('R_star = '+str(round(Rs/R_sun,2))+' \\u00B1 '+str(round(Rs_err/R_sun,2))+' R_Sun')\n",
        "\n",
        "T_star = 6400#plsyspars['st_teff'][0] #Star effective temperature in Kelvin\n",
        "print('T_eff = '+str(int(T_star))+' K')"
      ],
      "execution_count": null,
      "outputs": []
    },
    {
      "cell_type": "markdown",
      "metadata": {
        "id": "r80wJjknHvhV"
      },
      "source": [
        "8. *(Play)* Download [ATMO](https://ui.adsabs.harvard.edu/abs/2019MNRAS.482.4503G/abstract) models closest to the surface gravity and equilibrium temperatures in Step 7."
      ]
    },
    {
      "cell_type": "code",
      "metadata": {
        "id": "6be1QoaFL2M6"
      },
      "source": [
        "#Find closest matching surface gravity and four closest equilibrium temperatures that have models.\n",
        "modgravarr = [5,10,20,50]\n",
        "mod = np.abs(modgravarr - grav).tolist()\n",
        "modgrav = modgravarr[mod.index(min(mod))]\n",
        "teqlist = [int(np.floor(T_guess/100))*100-100,int(np.floor(T_guess/100))*100,int(np.ceil(T_guess/100))*100,int(np.ceil(T_guess/100))*100+100]\n",
        "print('Downloading models for g = '+str(modgrav)+' m/s^2 and T_eq = '+str(teqlist[0])+', '+str(teqlist[1])+', '+str(teqlist[2])+', and '+str(teqlist[3])+' K')\n",
        "\n",
        "#Download ATMO models and combine into a single mega grid.\n",
        "x=0\n",
        "for i in teqlist:\n",
        "\n",
        "  url = 'https://raw.githubusercontent.com/skgrunblatt/exoplanet_atmospheres/main/goyalmodels_local/'+str(modgrav).zfill(2)+'/'+str(i).zfill(4)+'_'+str(modgrav).zfill(2)+'.csv'\n",
        "  if x == 0:\n",
        "    model = pd.read_csv(url,header=0)\n",
        "  else:\n",
        "    model2 = pd.read_csv(url,header=0)\n",
        "    model = model.merge(model2,on='wavelength')\n",
        "  x=1\n",
        "print('ATMO model download complete!')"
      ],
      "execution_count": null,
      "outputs": []
    },
    {
      "cell_type": "markdown",
      "metadata": {
        "id": "wQlskzcsfuj4"
      },
      "source": [
        "9. *(Play)* Find the three ATMO models that fit the data best. Please see [Goyal et al. (2019)](https://ui.adsabs.harvard.edu/abs/2019MNRAS.482.4503G/abstract) for a description of the model parameters."
      ]
    },
    {
      "cell_type": "code",
      "metadata": {
        "id": "8AsKcav6Vl8w"
      },
      "source": [
        "#Identify a normalization index for data and models\n",
        "df.loc[df['plnratror']==df['plnratror'].median()]\n",
        "normidx = df.loc[df['plnratror']==df['plnratror'].mean()]\n",
        "try:\n",
        "  ni = normidx.index.tolist()[0]\n",
        "except:\n",
        "  ni = int(len(df)/2)\n",
        "\n",
        "#Compute (Rp/Rs)^2 and associated errors\n",
        "df['rprs2'] = (df['plnratror']**2)/(np.array(df['plnratror'][ni])**2)\n",
        "df['rprs2_err'] = 2*(np.mean([np.abs(df['plnratrorerr1']),np.abs(df['plnratrorerr2'])])/df['plnratror'])*df['rprs2']\n",
        "\n",
        "#Truncate dataframe to values we care about\n",
        "dfsm = df[['centralwavelng','bandwidth','rprs2','rprs2_err']].copy()\n",
        "\n",
        "#Resample high-resolution models to the wavelength scale of the data\n",
        "columns = list(model)\n",
        "for i in columns:\n",
        "  f = spectres.spectres(np.array(df.centralwavelng),np.array(model.wavelength),np.array(model[i]), spec_errs=None)\n",
        "  dfsm[i] = f/f[ni]\n",
        "\n",
        "dft = dfsm[['centralwavelng','bandwidth','rprs2','rprs2_err','wavelength']].copy()\n",
        "dfm = dfsm.drop(['centralwavelng','bandwidth','rprs2','rprs2_err','wavelength'],axis=1)\n",
        "\n",
        "#Compute the goodness-of-fit statistic (G_k) (Eq. 1 of Cushing et al. (2008)), which is effectively a chi-squared minimization, to identify the best fitting model\n",
        "fmean = np.mean(dft.rprs2)\n",
        "dfmn = dfm.div(dfm.mean(axis=0),axis=1)\n",
        "dfmn = dfmn.multiply(fmean,axis=0)\n",
        "dfs = dfmn.sub(dft['rprs2'],axis=0)\n",
        "dfs = dfs.div(dft['rprs2_err'],axis=0)\n",
        "dfp = np.power(dfs,2)\n",
        "dfp.loc['Total']=dfp.sum()\n",
        "\n",
        "#Find the 3 best fitting models!\n",
        "min1 = dfp.loc['Total'].idxmin()#axis=1)\n",
        "gk1 = dfp.loc['Total'].min()\n",
        "dft['best'] = dfmn[min1]\n",
        "dft['residual'] = (dft.rprs2 - dft.best)/dft.rprs2\n",
        "dfx = dfp.drop(columns=[min1])\n",
        "min2 = dfx.loc['Total'].idxmin()#axis=1)\n",
        "gk2 = dfx.loc['Total'].min()\n",
        "dfx = dfx.drop(columns=[min2])\n",
        "min3 = dfx.loc['Total'].idxmin()#axis=1)\n",
        "gk3 = dfx.loc['Total'].min()\n",
        "\n",
        "print(planet+' best fitting forward models and associated G_k statistic (smaller indicates a better fit):')\n",
        "print('(1) T_eq = '+min1[0:4].lstrip('0')+' K, g = '+min1[5:7].lstrip('0')+' m/s^2, log(metallicity_atmo) = '+min1[8:12]+', C/O = '+min1[13:17]+', Haze = '+min1[18:22].lstrip('0')+', Cloud = '+min1[23:27]+', G_k = '+str(round(gk1,2)))\n",
        "print('(2) T_eq = '+min2[0:4].lstrip('0')+' K, g = '+min2[5:7].lstrip('0')+' m/s^2, log(metallicity_atmo) = '+min2[8:12]+', C/O = '+min2[13:17]+', Haze = '+min2[18:22].lstrip('0')+', Cloud = '+min2[23:27]+', G_k = '+str(round(gk2,2)))\n",
        "print('(3) T_eq = '+min3[0:4].lstrip('0')+' K, g = '+min3[5:7].lstrip('0')+' m/s^2, log(metallicity_atmo) = '+min3[8:12]+', C/O = '+min3[13:17]+', Haze = '+min3[18:22].lstrip('0')+', Cloud = '+min3[23:27]+', G_k = '+str(round(gk3,2)))"
      ],
      "execution_count": null,
      "outputs": []
    },
    {
      "cell_type": "markdown",
      "metadata": {
        "id": "1rxP0JIDf-YT"
      },
      "source": [
        "10. *(Play)* Plot your data and the 3 best fit forward models. This will save a file called *planet_name*_best_forward_models.png in the folder to the left."
      ]
    },
    {
      "cell_type": "code",
      "metadata": {
        "id": "U0DUnIURX4y2"
      },
      "source": [
        "#Change the spacing between the three models in the plot below\n",
        "spacer = 0.2\n",
        "\n",
        "plt.figure(figsize=(18,16))\n",
        "plt.xticks(fontsize=24)\n",
        "plt.yticks(fontsize=24)\n",
        "plt.title(planet+' Best Fit Forward Models', fontsize=26)\n",
        "plt.xlabel('Wavelength ($\\mathrm{\\mu}$m)',fontsize=24)\n",
        "plt.ylabel('Transit Depth + offset',fontsize=24)\n",
        "\n",
        "index = abs(model['wavelength'] - df.centralwavelng[ni]).idxmin()\n",
        "# print(index)\n",
        "plt.plot(model.wavelength,model[min1]/model[min1][index], lw=3,\n",
        "         label='$T_{eq}$ = '+min1[0:4].lstrip('0')+' K, $g$ = '\n",
        "         +min1[5:7].lstrip('0')+' m s$^{-2}$, [Metallicity]$_{atmo}$ = '\n",
        "         +min1[8:12]+', C/O = '+min1[13:17]+', Haze = '\n",
        "         +min1[18:22].lstrip('0')+', Cloud = '+min1[23:27])\n",
        "plt.errorbar(x=dfsm.centralwavelng,y=dfsm.rprs2,xerr=dfsm.bandwidth,yerr=dfsm.rprs2_err,fmt='o',color='black', label=planet+' Transit Data')\n",
        "\n",
        "plt.plot(model.wavelength,model[min2]/model[min2][index]-spacer, lw=3,\n",
        "         label='$T_{eq}$ = '+min2[0:4].lstrip('0')+' K, $g$ = '\n",
        "         +min2[5:7].lstrip('0')+' m s$^{-2}$, [Metallicity]$_{atmo}$ = '\n",
        "         +min2[8:12]+', C/O = '+min2[13:17]+', Haze = '\n",
        "         +min2[18:22].lstrip('0')+', Cloud = '+min2[23:27])\n",
        "plt.errorbar(x=dfsm.centralwavelng,y=dfsm.rprs2-spacer,xerr=dfsm.bandwidth,yerr=dfsm.rprs2_err,fmt='o',color='black')\n",
        "\n",
        "plt.plot(model.wavelength,model[min3]/model[min3][index]-spacer*2, lw=3,\n",
        "         label='$T_{eq}$ = '+min3[0:4].lstrip('0')+' K, $g$ = '\n",
        "         +min3[5:7].lstrip('0')+' m s$^{-2}$, [Metallicity]$_{atmo}$ = '\n",
        "         +min3[8:12]+', C/O = '+min3[13:17]+', Haze = '\n",
        "         +min3[18:22].lstrip('0')+', Cloud = '+min3[23:27])\n",
        "plt.errorbar(x=dfsm.centralwavelng,y=dfsm.rprs2-spacer*2,xerr=dfsm.bandwidth,yerr=dfsm.rprs2_err,fmt='o',color='black')\n",
        "\n",
        "plt.legend(loc='upper right', fontsize=18)\n",
        "plt.xlim(np.min(dfsm.centralwavelng)-0.2,np.max(dfsm.centralwavelng)+0.2)\n",
        "plt.ylim(0.5,1.225)\n",
        "# plt.xscale('log') #uncomment if necessary\n",
        "plt.savefig(planet+'_best_forward_models.png')"
      ],
      "execution_count": null,
      "outputs": []
    },
    {
      "cell_type": "markdown",
      "metadata": {
        "id": "0dVL-rU1gbxD"
      },
      "source": [
        "You have reached the end of this tutorial, congratulations!"
      ]
    },
    {
      "cell_type": "code",
      "source": [],
      "metadata": {
        "id": "ibonQCprJ-5y"
      },
      "execution_count": null,
      "outputs": []
    }
  ]
}